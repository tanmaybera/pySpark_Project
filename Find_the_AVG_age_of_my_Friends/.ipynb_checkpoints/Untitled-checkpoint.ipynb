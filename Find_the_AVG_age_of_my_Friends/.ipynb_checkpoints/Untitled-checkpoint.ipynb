{
 "cells": [
  {
   "cell_type": "code",
   "execution_count": 6,
   "metadata": {},
   "outputs": [
    {
     "name": "stdout",
     "output_type": "stream",
     "text": [
      "[TANMAY] : checking the data structure\n",
      "[('10', 26), ('11', 25), ('12', 24), ('13', 23)]\n",
      "\n",
      "I have -26- numbers of friends of AGE -10\n",
      "I have -24- numbers of friends of AGE -12\n",
      "I have -22- numbers of friends of AGE -14\n",
      "I have -60- numbers of friends of AGE -16\n",
      "I have -57- numbers of friends of AGE -17\n",
      "I have -51- numbers of friends of AGE -19\n",
      "I have -48- numbers of friends of AGE -20\n",
      "I have -45- numbers of friends of AGE -21\n",
      "I have -42- numbers of friends of AGE -22\n",
      "I have -12- numbers of friends of AGE -24\n",
      "I have -19- numbers of friends of AGE -26\n",
      "I have -6- numbers of friends of AGE -29\n",
      "I have -25- numbers of friends of AGE -11\n",
      "I have -23- numbers of friends of AGE -13\n",
      "I have -21- numbers of friends of AGE -15\n",
      "I have -54- numbers of friends of AGE -18\n",
      "I have -39- numbers of friends of AGE -23\n",
      "I have -11- numbers of friends of AGE -25\n",
      "I have -8- numbers of friends of AGE -27\n",
      "I have -7- numbers of friends of AGE -28\n",
      "I have -5- numbers of friends of AGE -30\n"
     ]
    }
   ],
   "source": [
    "#install findspark library,\n",
    "import findspark\n",
    "findspark.init()\n",
    "\n",
    "# now python knows about spark,\n",
    "from pyspark import SparkConf, SparkContext\n",
    "sc = SparkContext.getOrCreate()\n",
    "\n",
    "from operator import add\n",
    "\n",
    "# function to read rows\n",
    "def parser_line(line):\n",
    "    age, number = line.split(',')[0] , int(line.split(',')[1])\n",
    "    return (age, number)\n",
    "\n",
    "# main script\n",
    "lines = sc.textFile(\"friends.csv\")\n",
    "rdd_friends = lines.map(parser_line)\n",
    "print(\"[TANMAY] : checking the data structure\")\n",
    "print(rdd_friends.take(4))\n",
    "print(\"\")\n",
    "rdd = rdd_friends.reduceByKey(lambda a, b: a+b)\n",
    "\n",
    "for i in rdd.collect():\n",
    "    print(\"I have -\"+str(i[1])+\"- numbers of friends of AGE -\"+i[0])\n",
    "    \n"
   ]
  },
  {
   "cell_type": "code",
   "execution_count": null,
   "metadata": {},
   "outputs": [],
   "source": []
  }
 ],
 "metadata": {
  "kernelspec": {
   "display_name": "Python 3",
   "language": "python",
   "name": "python3"
  },
  "language_info": {
   "codemirror_mode": {
    "name": "ipython",
    "version": 3
   },
   "file_extension": ".py",
   "mimetype": "text/x-python",
   "name": "python",
   "nbconvert_exporter": "python",
   "pygments_lexer": "ipython3",
   "version": "3.7.5"
  }
 },
 "nbformat": 4,
 "nbformat_minor": 4
}
